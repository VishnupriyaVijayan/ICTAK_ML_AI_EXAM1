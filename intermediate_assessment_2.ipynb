{
 "cells": [
  {
   "cell_type": "code",
   "execution_count": 1,
   "id": "8527c635",
   "metadata": {},
   "outputs": [],
   "source": [
    "#Import libraries\n",
    "\n",
    "#Data preprocessing\n",
    "import numpy as np\n",
    "import pandas as pd \n",
    "import seaborn as sns\n",
    "import matplotlib.pyplot as plt\n",
    "\n",
    "# label encoder,Standardize the data\n",
    "from sklearn.preprocessing import StandardScaler, LabelEncoder\n",
    "\n",
    "from sklearn.model_selection import train_test_split\n",
    "from sklearn.svm import SVR\n",
    "from sklearn.model_selection import cross_val_score,KFold\n",
    "from sklearn.model_selection import GridSearchCV\n",
    "\n",
    "from sklearn.metrics import mean_squared_error\n",
    "\n",
    "from sklearn.metrics import accuracy_score\n",
    "\n",
    "import warnings\n",
    "warnings.filterwarnings(\"ignore\")"
   ]
  },
  {
   "cell_type": "code",
   "execution_count": 2,
   "id": "a6cd5a7c",
   "metadata": {},
   "outputs": [],
   "source": [
    "train = pd.read_csv(r\"F:\\Tutorials\\Certified program in MACHINE LEARNING and ARTIFICIAL INTELLIGENCE\\Intermediate assessment\\train_v9rqX0R.csv\")\n",
    "test = pd.read_csv(r\"F:\\Tutorials\\Certified program in MACHINE LEARNING and ARTIFICIAL INTELLIGENCE\\Intermediate assessment\\test_AbJTz2l.csv\")\n"
   ]
  },
  {
   "cell_type": "markdown",
   "id": "2b83c329",
   "metadata": {},
   "source": [
    "#### exploratory analysis "
   ]
  },
  {
   "cell_type": "code",
   "execution_count": 3,
   "id": "1558abf1",
   "metadata": {},
   "outputs": [
    {
     "name": "stdout",
     "output_type": "stream",
     "text": [
      "<class 'pandas.core.frame.DataFrame'>\n",
      "RangeIndex: 8523 entries, 0 to 8522\n",
      "Data columns (total 12 columns):\n",
      " #   Column                     Non-Null Count  Dtype  \n",
      "---  ------                     --------------  -----  \n",
      " 0   Item_Identifier            8523 non-null   object \n",
      " 1   Item_Weight                7060 non-null   float64\n",
      " 2   Item_Fat_Content           8523 non-null   object \n",
      " 3   Item_Visibility            8523 non-null   float64\n",
      " 4   Item_Type                  8523 non-null   object \n",
      " 5   Item_MRP                   8523 non-null   float64\n",
      " 6   Outlet_Identifier          8523 non-null   object \n",
      " 7   Outlet_Establishment_Year  8523 non-null   int64  \n",
      " 8   Outlet_Size                6113 non-null   object \n",
      " 9   Outlet_Location_Type       8523 non-null   object \n",
      " 10  Outlet_Type                8523 non-null   object \n",
      " 11  Item_Outlet_Sales          8523 non-null   float64\n",
      "dtypes: float64(4), int64(1), object(7)\n",
      "memory usage: 799.2+ KB\n"
     ]
    }
   ],
   "source": [
    "train.info()"
   ]
  },
  {
   "cell_type": "code",
   "execution_count": 4,
   "id": "db5625b0",
   "metadata": {},
   "outputs": [
    {
     "data": {
      "text/html": [
       "<div>\n",
       "<style scoped>\n",
       "    .dataframe tbody tr th:only-of-type {\n",
       "        vertical-align: middle;\n",
       "    }\n",
       "\n",
       "    .dataframe tbody tr th {\n",
       "        vertical-align: top;\n",
       "    }\n",
       "\n",
       "    .dataframe thead th {\n",
       "        text-align: right;\n",
       "    }\n",
       "</style>\n",
       "<table border=\"1\" class=\"dataframe\">\n",
       "  <thead>\n",
       "    <tr style=\"text-align: right;\">\n",
       "      <th></th>\n",
       "      <th>Item_Identifier</th>\n",
       "      <th>Item_Weight</th>\n",
       "      <th>Item_Fat_Content</th>\n",
       "      <th>Item_Visibility</th>\n",
       "      <th>Item_Type</th>\n",
       "      <th>Item_MRP</th>\n",
       "      <th>Outlet_Identifier</th>\n",
       "      <th>Outlet_Establishment_Year</th>\n",
       "      <th>Outlet_Size</th>\n",
       "      <th>Outlet_Location_Type</th>\n",
       "      <th>Outlet_Type</th>\n",
       "      <th>Item_Outlet_Sales</th>\n",
       "    </tr>\n",
       "  </thead>\n",
       "  <tbody>\n",
       "    <tr>\n",
       "      <th>0</th>\n",
       "      <td>FDA15</td>\n",
       "      <td>9.30</td>\n",
       "      <td>Low Fat</td>\n",
       "      <td>0.016047</td>\n",
       "      <td>Dairy</td>\n",
       "      <td>249.8092</td>\n",
       "      <td>OUT049</td>\n",
       "      <td>1999</td>\n",
       "      <td>Medium</td>\n",
       "      <td>Tier 1</td>\n",
       "      <td>Supermarket Type1</td>\n",
       "      <td>3735.1380</td>\n",
       "    </tr>\n",
       "    <tr>\n",
       "      <th>1</th>\n",
       "      <td>DRC01</td>\n",
       "      <td>5.92</td>\n",
       "      <td>Regular</td>\n",
       "      <td>0.019278</td>\n",
       "      <td>Soft Drinks</td>\n",
       "      <td>48.2692</td>\n",
       "      <td>OUT018</td>\n",
       "      <td>2009</td>\n",
       "      <td>Medium</td>\n",
       "      <td>Tier 3</td>\n",
       "      <td>Supermarket Type2</td>\n",
       "      <td>443.4228</td>\n",
       "    </tr>\n",
       "    <tr>\n",
       "      <th>2</th>\n",
       "      <td>FDN15</td>\n",
       "      <td>17.50</td>\n",
       "      <td>Low Fat</td>\n",
       "      <td>0.016760</td>\n",
       "      <td>Meat</td>\n",
       "      <td>141.6180</td>\n",
       "      <td>OUT049</td>\n",
       "      <td>1999</td>\n",
       "      <td>Medium</td>\n",
       "      <td>Tier 1</td>\n",
       "      <td>Supermarket Type1</td>\n",
       "      <td>2097.2700</td>\n",
       "    </tr>\n",
       "    <tr>\n",
       "      <th>3</th>\n",
       "      <td>FDX07</td>\n",
       "      <td>19.20</td>\n",
       "      <td>Regular</td>\n",
       "      <td>0.000000</td>\n",
       "      <td>Fruits and Vegetables</td>\n",
       "      <td>182.0950</td>\n",
       "      <td>OUT010</td>\n",
       "      <td>1998</td>\n",
       "      <td>NaN</td>\n",
       "      <td>Tier 3</td>\n",
       "      <td>Grocery Store</td>\n",
       "      <td>732.3800</td>\n",
       "    </tr>\n",
       "    <tr>\n",
       "      <th>4</th>\n",
       "      <td>NCD19</td>\n",
       "      <td>8.93</td>\n",
       "      <td>Low Fat</td>\n",
       "      <td>0.000000</td>\n",
       "      <td>Household</td>\n",
       "      <td>53.8614</td>\n",
       "      <td>OUT013</td>\n",
       "      <td>1987</td>\n",
       "      <td>High</td>\n",
       "      <td>Tier 3</td>\n",
       "      <td>Supermarket Type1</td>\n",
       "      <td>994.7052</td>\n",
       "    </tr>\n",
       "  </tbody>\n",
       "</table>\n",
       "</div>"
      ],
      "text/plain": [
       "  Item_Identifier  Item_Weight Item_Fat_Content  Item_Visibility  \\\n",
       "0           FDA15         9.30          Low Fat         0.016047   \n",
       "1           DRC01         5.92          Regular         0.019278   \n",
       "2           FDN15        17.50          Low Fat         0.016760   \n",
       "3           FDX07        19.20          Regular         0.000000   \n",
       "4           NCD19         8.93          Low Fat         0.000000   \n",
       "\n",
       "               Item_Type  Item_MRP Outlet_Identifier  \\\n",
       "0                  Dairy  249.8092            OUT049   \n",
       "1            Soft Drinks   48.2692            OUT018   \n",
       "2                   Meat  141.6180            OUT049   \n",
       "3  Fruits and Vegetables  182.0950            OUT010   \n",
       "4              Household   53.8614            OUT013   \n",
       "\n",
       "   Outlet_Establishment_Year Outlet_Size Outlet_Location_Type  \\\n",
       "0                       1999      Medium               Tier 1   \n",
       "1                       2009      Medium               Tier 3   \n",
       "2                       1999      Medium               Tier 1   \n",
       "3                       1998         NaN               Tier 3   \n",
       "4                       1987        High               Tier 3   \n",
       "\n",
       "         Outlet_Type  Item_Outlet_Sales  \n",
       "0  Supermarket Type1          3735.1380  \n",
       "1  Supermarket Type2           443.4228  \n",
       "2  Supermarket Type1          2097.2700  \n",
       "3      Grocery Store           732.3800  \n",
       "4  Supermarket Type1           994.7052  "
      ]
     },
     "execution_count": 4,
     "metadata": {},
     "output_type": "execute_result"
    }
   ],
   "source": [
    "train.head()"
   ]
  },
  {
   "cell_type": "code",
   "execution_count": 5,
   "id": "b32ecac7",
   "metadata": {},
   "outputs": [
    {
     "data": {
      "text/html": [
       "<div>\n",
       "<style scoped>\n",
       "    .dataframe tbody tr th:only-of-type {\n",
       "        vertical-align: middle;\n",
       "    }\n",
       "\n",
       "    .dataframe tbody tr th {\n",
       "        vertical-align: top;\n",
       "    }\n",
       "\n",
       "    .dataframe thead th {\n",
       "        text-align: right;\n",
       "    }\n",
       "</style>\n",
       "<table border=\"1\" class=\"dataframe\">\n",
       "  <thead>\n",
       "    <tr style=\"text-align: right;\">\n",
       "      <th></th>\n",
       "      <th>Item_Weight</th>\n",
       "      <th>Item_Visibility</th>\n",
       "      <th>Item_MRP</th>\n",
       "      <th>Outlet_Establishment_Year</th>\n",
       "      <th>Item_Outlet_Sales</th>\n",
       "    </tr>\n",
       "  </thead>\n",
       "  <tbody>\n",
       "    <tr>\n",
       "      <th>count</th>\n",
       "      <td>7060.000000</td>\n",
       "      <td>8523.000000</td>\n",
       "      <td>8523.000000</td>\n",
       "      <td>8523.000000</td>\n",
       "      <td>8523.000000</td>\n",
       "    </tr>\n",
       "    <tr>\n",
       "      <th>mean</th>\n",
       "      <td>12.857645</td>\n",
       "      <td>0.066132</td>\n",
       "      <td>140.992782</td>\n",
       "      <td>1997.831867</td>\n",
       "      <td>2181.288914</td>\n",
       "    </tr>\n",
       "    <tr>\n",
       "      <th>std</th>\n",
       "      <td>4.643456</td>\n",
       "      <td>0.051598</td>\n",
       "      <td>62.275067</td>\n",
       "      <td>8.371760</td>\n",
       "      <td>1706.499616</td>\n",
       "    </tr>\n",
       "    <tr>\n",
       "      <th>min</th>\n",
       "      <td>4.555000</td>\n",
       "      <td>0.000000</td>\n",
       "      <td>31.290000</td>\n",
       "      <td>1985.000000</td>\n",
       "      <td>33.290000</td>\n",
       "    </tr>\n",
       "    <tr>\n",
       "      <th>25%</th>\n",
       "      <td>8.773750</td>\n",
       "      <td>0.026989</td>\n",
       "      <td>93.826500</td>\n",
       "      <td>1987.000000</td>\n",
       "      <td>834.247400</td>\n",
       "    </tr>\n",
       "    <tr>\n",
       "      <th>50%</th>\n",
       "      <td>12.600000</td>\n",
       "      <td>0.053931</td>\n",
       "      <td>143.012800</td>\n",
       "      <td>1999.000000</td>\n",
       "      <td>1794.331000</td>\n",
       "    </tr>\n",
       "    <tr>\n",
       "      <th>75%</th>\n",
       "      <td>16.850000</td>\n",
       "      <td>0.094585</td>\n",
       "      <td>185.643700</td>\n",
       "      <td>2004.000000</td>\n",
       "      <td>3101.296400</td>\n",
       "    </tr>\n",
       "    <tr>\n",
       "      <th>max</th>\n",
       "      <td>21.350000</td>\n",
       "      <td>0.328391</td>\n",
       "      <td>266.888400</td>\n",
       "      <td>2009.000000</td>\n",
       "      <td>13086.964800</td>\n",
       "    </tr>\n",
       "  </tbody>\n",
       "</table>\n",
       "</div>"
      ],
      "text/plain": [
       "       Item_Weight  Item_Visibility     Item_MRP  Outlet_Establishment_Year  \\\n",
       "count  7060.000000      8523.000000  8523.000000                8523.000000   \n",
       "mean     12.857645         0.066132   140.992782                1997.831867   \n",
       "std       4.643456         0.051598    62.275067                   8.371760   \n",
       "min       4.555000         0.000000    31.290000                1985.000000   \n",
       "25%       8.773750         0.026989    93.826500                1987.000000   \n",
       "50%      12.600000         0.053931   143.012800                1999.000000   \n",
       "75%      16.850000         0.094585   185.643700                2004.000000   \n",
       "max      21.350000         0.328391   266.888400                2009.000000   \n",
       "\n",
       "       Item_Outlet_Sales  \n",
       "count        8523.000000  \n",
       "mean         2181.288914  \n",
       "std          1706.499616  \n",
       "min            33.290000  \n",
       "25%           834.247400  \n",
       "50%          1794.331000  \n",
       "75%          3101.296400  \n",
       "max         13086.964800  "
      ]
     },
     "execution_count": 5,
     "metadata": {},
     "output_type": "execute_result"
    }
   ],
   "source": [
    "train.describe()"
   ]
  },
  {
   "cell_type": "code",
   "execution_count": 6,
   "id": "ec040ab9",
   "metadata": {},
   "outputs": [],
   "source": [
    "X_train=train.drop(columns=['Item_Outlet_Sales'])\n",
    "y_train=train['Item_Outlet_Sales']"
   ]
  },
  {
   "cell_type": "markdown",
   "id": "cbb2b426",
   "metadata": {},
   "source": [
    "### finding missing values "
   ]
  },
  {
   "cell_type": "code",
   "execution_count": 7,
   "id": "82a0b86f",
   "metadata": {},
   "outputs": [
    {
     "data": {
      "text/plain": [
       "Item_Identifier                 0\n",
       "Item_Weight                  1463\n",
       "Item_Fat_Content                0\n",
       "Item_Visibility                 0\n",
       "Item_Type                       0\n",
       "Item_MRP                        0\n",
       "Outlet_Identifier               0\n",
       "Outlet_Establishment_Year       0\n",
       "Outlet_Size                  2410\n",
       "Outlet_Location_Type            0\n",
       "Outlet_Type                     0\n",
       "dtype: int64"
      ]
     },
     "execution_count": 7,
     "metadata": {},
     "output_type": "execute_result"
    }
   ],
   "source": [
    "X_train.isnull().sum()"
   ]
  },
  {
   "cell_type": "code",
   "execution_count": 8,
   "id": "fc692196",
   "metadata": {},
   "outputs": [],
   "source": [
    "#train = train.drop([\"Item_Identifier\", \"Outlet_Identifier\"], axis=1)\n"
   ]
  },
  {
   "cell_type": "code",
   "execution_count": 9,
   "id": "a766ce4b",
   "metadata": {},
   "outputs": [],
   "source": [
    "X_train.drop(columns=['Outlet_Size'],inplace=True)"
   ]
  },
  {
   "cell_type": "code",
   "execution_count": 10,
   "id": "4b0e7be5",
   "metadata": {},
   "outputs": [],
   "source": [
    "test.drop(columns=['Outlet_Size'],inplace=True)"
   ]
  },
  {
   "cell_type": "code",
   "execution_count": 11,
   "id": "46590aa6",
   "metadata": {},
   "outputs": [
    {
     "data": {
      "text/plain": [
       "927    NaN\n",
       "1922   NaN\n",
       "4187   NaN\n",
       "5022   NaN\n",
       "Name: Item_Weight, dtype: float64"
      ]
     },
     "execution_count": 11,
     "metadata": {},
     "output_type": "execute_result"
    }
   ],
   "source": [
    "#filling in missing values of item weight according to item identifier\n",
    "X_train['Item_Weight'] = X_train['Item_Weight'].fillna(X_train.groupby('Item_Identifier')['Item_Weight'].transform('mean'))\n",
    "missing_values =X_train['Item_Weight'].isnull()\n",
    "missing_index=X_train.loc[missing_values,'Item_Weight']\n",
    "missing_index"
   ]
  },
  {
   "cell_type": "code",
   "execution_count": 12,
   "id": "1a1cea93",
   "metadata": {},
   "outputs": [],
   "source": [
    "#filling in missing values of item weight according to item type\n",
    "X_train['Item_Weight'] = X_train['Item_Weight'].fillna(X_train.groupby('Item_Type')['Item_Weight'].transform('mean'))"
   ]
  },
  {
   "cell_type": "code",
   "execution_count": 13,
   "id": "e9b3cf90",
   "metadata": {},
   "outputs": [
    {
     "data": {
      "text/plain": [
       "0"
      ]
     },
     "execution_count": 13,
     "metadata": {},
     "output_type": "execute_result"
    }
   ],
   "source": [
    "missing_values = X_train['Item_Weight'].isnull()\n",
    "missing_values.isnull().sum()"
   ]
  },
  {
   "cell_type": "code",
   "execution_count": 14,
   "id": "b4eb5c9d",
   "metadata": {},
   "outputs": [
    {
     "data": {
      "text/plain": [
       "58     NaN\n",
       "482    NaN\n",
       "882    NaN\n",
       "884    NaN\n",
       "1203   NaN\n",
       "1297   NaN\n",
       "1300   NaN\n",
       "1571   NaN\n",
       "1741   NaN\n",
       "2302   NaN\n",
       "2600   NaN\n",
       "3619   NaN\n",
       "3734   NaN\n",
       "3875   NaN\n",
       "3909   NaN\n",
       "4298   NaN\n",
       "4496   NaN\n",
       "5346   NaN\n",
       "5609   NaN\n",
       "5615   NaN\n",
       "Name: Item_Weight, dtype: float64"
      ]
     },
     "execution_count": 14,
     "metadata": {},
     "output_type": "execute_result"
    }
   ],
   "source": [
    "#filling in missing values of item weight according to item identifier\n",
    "test['Item_Weight'] = test['Item_Weight'].fillna(test.groupby('Item_Identifier')['Item_Weight'].transform('mean'))\n",
    "missing_values = test['Item_Weight'].isnull()\n",
    "missing_index=test.loc[missing_values,'Item_Weight']\n",
    "missing_index"
   ]
  },
  {
   "cell_type": "code",
   "execution_count": 15,
   "id": "56f24c99",
   "metadata": {},
   "outputs": [],
   "source": [
    "#filling in missing values of item weight according to item type\n",
    "test['Item_Weight'] = test['Item_Weight'].fillna(test.groupby('Item_Type')['Item_Weight'].transform('mean'))"
   ]
  },
  {
   "cell_type": "code",
   "execution_count": 16,
   "id": "8a9ffbfb",
   "metadata": {},
   "outputs": [
    {
     "data": {
      "text/plain": [
       "Item_Identifier              0\n",
       "Item_Weight                  0\n",
       "Item_Fat_Content             0\n",
       "Item_Visibility              0\n",
       "Item_Type                    0\n",
       "Item_MRP                     0\n",
       "Outlet_Identifier            0\n",
       "Outlet_Establishment_Year    0\n",
       "Outlet_Location_Type         0\n",
       "Outlet_Type                  0\n",
       "dtype: int64"
      ]
     },
     "execution_count": 16,
     "metadata": {},
     "output_type": "execute_result"
    }
   ],
   "source": [
    "X_train.isnull().sum()\n"
   ]
  },
  {
   "cell_type": "code",
   "execution_count": 17,
   "id": "9cf9838f",
   "metadata": {},
   "outputs": [
    {
     "data": {
      "text/plain": [
       "Item_Identifier              0\n",
       "Item_Weight                  0\n",
       "Item_Fat_Content             0\n",
       "Item_Visibility              0\n",
       "Item_Type                    0\n",
       "Item_MRP                     0\n",
       "Outlet_Identifier            0\n",
       "Outlet_Establishment_Year    0\n",
       "Outlet_Location_Type         0\n",
       "Outlet_Type                  0\n",
       "dtype: int64"
      ]
     },
     "execution_count": 17,
     "metadata": {},
     "output_type": "execute_result"
    }
   ],
   "source": [
    "test.isnull().sum()"
   ]
  },
  {
   "cell_type": "markdown",
   "id": "4c6e80c5",
   "metadata": {},
   "source": [
    "#### encoding categorical variables "
   ]
  },
  {
   "cell_type": "code",
   "execution_count": 18,
   "id": "a276da01",
   "metadata": {},
   "outputs": [],
   "source": [
    "categorical_features = X_train.select_dtypes(include='object')\n"
   ]
  },
  {
   "cell_type": "code",
   "execution_count": 19,
   "id": "4af2a128",
   "metadata": {},
   "outputs": [
    {
     "name": "stdout",
     "output_type": "stream",
     "text": [
      "Item_Identifier ..........> 1559\n",
      "Item_Fat_Content ..........> 5\n",
      "Item_Type ..........> 16\n",
      "Outlet_Identifier ..........> 10\n",
      "Outlet_Location_Type ..........> 3\n",
      "Outlet_Type ..........> 4\n"
     ]
    }
   ],
   "source": [
    "for i in categorical_features.columns:\n",
    "    print(i,'..........>',X_train[i].nunique())"
   ]
  },
  {
   "cell_type": "code",
   "execution_count": 20,
   "id": "fad1bcba",
   "metadata": {},
   "outputs": [
    {
     "name": "stdout",
     "output_type": "stream",
     "text": [
      "Item_Identifier ..........> 1543\n",
      "Item_Fat_Content ..........> 5\n",
      "Item_Type ..........> 16\n",
      "Outlet_Identifier ..........> 10\n",
      "Outlet_Location_Type ..........> 3\n",
      "Outlet_Type ..........> 4\n"
     ]
    }
   ],
   "source": [
    "categorical_features = test.select_dtypes(include='object')\n",
    "for i in categorical_features.columns:\n",
    "    print(i,'..........>',test[i].nunique())"
   ]
  },
  {
   "cell_type": "code",
   "execution_count": 21,
   "id": "197fc38a",
   "metadata": {},
   "outputs": [],
   "source": [
    "X_train.drop(columns=['Item_Identifier'],inplace=True)\n",
    "test.drop(columns=['Item_Identifier'],inplace=True)"
   ]
  },
  {
   "cell_type": "code",
   "execution_count": 22,
   "id": "5f241bb3",
   "metadata": {},
   "outputs": [],
   "source": [
    "# Label encoding 'Outlet_Location_Type'\n",
    "label_encoder = LabelEncoder()\n",
    "test['Outlet_Location_Type']= label_encoder.fit_transform(test['Outlet_Location_Type'])\n",
    "X_train['Outlet_Location_Type']= label_encoder.fit_transform(X_train['Outlet_Location_Type'])\n",
    "# Label encoding 'Item_Fat_Content'\n",
    "label_encoder = LabelEncoder()\n",
    "test['Item_Fat_Content']= label_encoder.fit_transform(test['Item_Fat_Content'])\n",
    "X_train['Item_Fat_Content']= label_encoder.fit_transform(X_train['Item_Fat_Content'])\n"
   ]
  },
  {
   "cell_type": "code",
   "execution_count": 23,
   "id": "c0cc3ab9",
   "metadata": {},
   "outputs": [],
   "source": [
    "test= pd.get_dummies(test, columns=[ 'Item_Type', 'Outlet_Identifier', 'Outlet_Type'])"
   ]
  },
  {
   "cell_type": "code",
   "execution_count": 24,
   "id": "936947cb",
   "metadata": {},
   "outputs": [],
   "source": [
    "X_train=pd.get_dummies(X_train, columns=[ 'Item_Type', 'Outlet_Identifier', 'Outlet_Type'])"
   ]
  },
  {
   "cell_type": "code",
   "execution_count": 25,
   "id": "b0528c3c",
   "metadata": {},
   "outputs": [
    {
     "name": "stdout",
     "output_type": "stream",
     "text": [
      "<class 'pandas.core.frame.DataFrame'>\n",
      "RangeIndex: 8523 entries, 0 to 8522\n",
      "Data columns (total 36 columns):\n",
      " #   Column                           Non-Null Count  Dtype  \n",
      "---  ------                           --------------  -----  \n",
      " 0   Item_Weight                      8523 non-null   float64\n",
      " 1   Item_Fat_Content                 8523 non-null   int32  \n",
      " 2   Item_Visibility                  8523 non-null   float64\n",
      " 3   Item_MRP                         8523 non-null   float64\n",
      " 4   Outlet_Establishment_Year        8523 non-null   int64  \n",
      " 5   Outlet_Location_Type             8523 non-null   int32  \n",
      " 6   Item_Type_Baking Goods           8523 non-null   uint8  \n",
      " 7   Item_Type_Breads                 8523 non-null   uint8  \n",
      " 8   Item_Type_Breakfast              8523 non-null   uint8  \n",
      " 9   Item_Type_Canned                 8523 non-null   uint8  \n",
      " 10  Item_Type_Dairy                  8523 non-null   uint8  \n",
      " 11  Item_Type_Frozen Foods           8523 non-null   uint8  \n",
      " 12  Item_Type_Fruits and Vegetables  8523 non-null   uint8  \n",
      " 13  Item_Type_Hard Drinks            8523 non-null   uint8  \n",
      " 14  Item_Type_Health and Hygiene     8523 non-null   uint8  \n",
      " 15  Item_Type_Household              8523 non-null   uint8  \n",
      " 16  Item_Type_Meat                   8523 non-null   uint8  \n",
      " 17  Item_Type_Others                 8523 non-null   uint8  \n",
      " 18  Item_Type_Seafood                8523 non-null   uint8  \n",
      " 19  Item_Type_Snack Foods            8523 non-null   uint8  \n",
      " 20  Item_Type_Soft Drinks            8523 non-null   uint8  \n",
      " 21  Item_Type_Starchy Foods          8523 non-null   uint8  \n",
      " 22  Outlet_Identifier_OUT010         8523 non-null   uint8  \n",
      " 23  Outlet_Identifier_OUT013         8523 non-null   uint8  \n",
      " 24  Outlet_Identifier_OUT017         8523 non-null   uint8  \n",
      " 25  Outlet_Identifier_OUT018         8523 non-null   uint8  \n",
      " 26  Outlet_Identifier_OUT019         8523 non-null   uint8  \n",
      " 27  Outlet_Identifier_OUT027         8523 non-null   uint8  \n",
      " 28  Outlet_Identifier_OUT035         8523 non-null   uint8  \n",
      " 29  Outlet_Identifier_OUT045         8523 non-null   uint8  \n",
      " 30  Outlet_Identifier_OUT046         8523 non-null   uint8  \n",
      " 31  Outlet_Identifier_OUT049         8523 non-null   uint8  \n",
      " 32  Outlet_Type_Grocery Store        8523 non-null   uint8  \n",
      " 33  Outlet_Type_Supermarket Type1    8523 non-null   uint8  \n",
      " 34  Outlet_Type_Supermarket Type2    8523 non-null   uint8  \n",
      " 35  Outlet_Type_Supermarket Type3    8523 non-null   uint8  \n",
      "dtypes: float64(3), int32(2), int64(1), uint8(30)\n",
      "memory usage: 582.8 KB\n"
     ]
    }
   ],
   "source": [
    "X_train.info()"
   ]
  },
  {
   "cell_type": "code",
   "execution_count": 26,
   "id": "ca391435",
   "metadata": {},
   "outputs": [
    {
     "name": "stdout",
     "output_type": "stream",
     "text": [
      "<class 'pandas.core.frame.DataFrame'>\n",
      "RangeIndex: 5681 entries, 0 to 5680\n",
      "Data columns (total 36 columns):\n",
      " #   Column                           Non-Null Count  Dtype  \n",
      "---  ------                           --------------  -----  \n",
      " 0   Item_Weight                      5681 non-null   float64\n",
      " 1   Item_Fat_Content                 5681 non-null   int32  \n",
      " 2   Item_Visibility                  5681 non-null   float64\n",
      " 3   Item_MRP                         5681 non-null   float64\n",
      " 4   Outlet_Establishment_Year        5681 non-null   int64  \n",
      " 5   Outlet_Location_Type             5681 non-null   int32  \n",
      " 6   Item_Type_Baking Goods           5681 non-null   uint8  \n",
      " 7   Item_Type_Breads                 5681 non-null   uint8  \n",
      " 8   Item_Type_Breakfast              5681 non-null   uint8  \n",
      " 9   Item_Type_Canned                 5681 non-null   uint8  \n",
      " 10  Item_Type_Dairy                  5681 non-null   uint8  \n",
      " 11  Item_Type_Frozen Foods           5681 non-null   uint8  \n",
      " 12  Item_Type_Fruits and Vegetables  5681 non-null   uint8  \n",
      " 13  Item_Type_Hard Drinks            5681 non-null   uint8  \n",
      " 14  Item_Type_Health and Hygiene     5681 non-null   uint8  \n",
      " 15  Item_Type_Household              5681 non-null   uint8  \n",
      " 16  Item_Type_Meat                   5681 non-null   uint8  \n",
      " 17  Item_Type_Others                 5681 non-null   uint8  \n",
      " 18  Item_Type_Seafood                5681 non-null   uint8  \n",
      " 19  Item_Type_Snack Foods            5681 non-null   uint8  \n",
      " 20  Item_Type_Soft Drinks            5681 non-null   uint8  \n",
      " 21  Item_Type_Starchy Foods          5681 non-null   uint8  \n",
      " 22  Outlet_Identifier_OUT010         5681 non-null   uint8  \n",
      " 23  Outlet_Identifier_OUT013         5681 non-null   uint8  \n",
      " 24  Outlet_Identifier_OUT017         5681 non-null   uint8  \n",
      " 25  Outlet_Identifier_OUT018         5681 non-null   uint8  \n",
      " 26  Outlet_Identifier_OUT019         5681 non-null   uint8  \n",
      " 27  Outlet_Identifier_OUT027         5681 non-null   uint8  \n",
      " 28  Outlet_Identifier_OUT035         5681 non-null   uint8  \n",
      " 29  Outlet_Identifier_OUT045         5681 non-null   uint8  \n",
      " 30  Outlet_Identifier_OUT046         5681 non-null   uint8  \n",
      " 31  Outlet_Identifier_OUT049         5681 non-null   uint8  \n",
      " 32  Outlet_Type_Grocery Store        5681 non-null   uint8  \n",
      " 33  Outlet_Type_Supermarket Type1    5681 non-null   uint8  \n",
      " 34  Outlet_Type_Supermarket Type2    5681 non-null   uint8  \n",
      " 35  Outlet_Type_Supermarket Type3    5681 non-null   uint8  \n",
      "dtypes: float64(3), int32(2), int64(1), uint8(30)\n",
      "memory usage: 388.5 KB\n"
     ]
    }
   ],
   "source": [
    "test.info()"
   ]
  },
  {
   "cell_type": "markdown",
   "id": "8e39d4f4",
   "metadata": {},
   "source": [
    "#### modelling SVR"
   ]
  },
  {
   "cell_type": "code",
   "execution_count": 27,
   "id": "ab92eaa1",
   "metadata": {},
   "outputs": [],
   "source": [
    "def scale_std(X_train,X_test):\n",
    "    sc = StandardScaler()\n",
    "    sc.fit(X_train)\n",
    "    X_train_std = sc.transform(X_train)\n",
    "    X_test_std = sc.transform(X_test)\n",
    "    return X_train_std,X_test_std"
   ]
  },
  {
   "cell_type": "code",
   "execution_count": 28,
   "id": "8852b49f",
   "metadata": {},
   "outputs": [],
   "source": [
    "X_train_std,X_test_std=scale_std(X_train,test)"
   ]
  },
  {
   "cell_type": "code",
   "execution_count": 29,
   "id": "135d395f",
   "metadata": {},
   "outputs": [],
   "source": [
    "X_train_std=pd.DataFrame(X_train_std)"
   ]
  },
  {
   "cell_type": "code",
   "execution_count": 30,
   "id": "557af541",
   "metadata": {},
   "outputs": [
    {
     "data": {
      "text/html": [
       "<div>\n",
       "<style scoped>\n",
       "    .dataframe tbody tr th:only-of-type {\n",
       "        vertical-align: middle;\n",
       "    }\n",
       "\n",
       "    .dataframe tbody tr th {\n",
       "        vertical-align: top;\n",
       "    }\n",
       "\n",
       "    .dataframe thead th {\n",
       "        text-align: right;\n",
       "    }\n",
       "</style>\n",
       "<table border=\"1\" class=\"dataframe\">\n",
       "  <thead>\n",
       "    <tr style=\"text-align: right;\">\n",
       "      <th></th>\n",
       "      <th>0</th>\n",
       "      <th>1</th>\n",
       "      <th>2</th>\n",
       "      <th>3</th>\n",
       "      <th>4</th>\n",
       "      <th>5</th>\n",
       "      <th>6</th>\n",
       "      <th>7</th>\n",
       "      <th>8</th>\n",
       "      <th>9</th>\n",
       "      <th>...</th>\n",
       "      <th>26</th>\n",
       "      <th>27</th>\n",
       "      <th>28</th>\n",
       "      <th>29</th>\n",
       "      <th>30</th>\n",
       "      <th>31</th>\n",
       "      <th>32</th>\n",
       "      <th>33</th>\n",
       "      <th>34</th>\n",
       "      <th>35</th>\n",
       "    </tr>\n",
       "  </thead>\n",
       "  <tbody>\n",
       "    <tr>\n",
       "      <th>0</th>\n",
       "      <td>-0.769777</td>\n",
       "      <td>-0.572844</td>\n",
       "      <td>-0.970732</td>\n",
       "      <td>1.747454</td>\n",
       "      <td>0.139541</td>\n",
       "      <td>-1.369334</td>\n",
       "      <td>-0.286855</td>\n",
       "      <td>-0.174193</td>\n",
       "      <td>-0.114346</td>\n",
       "      <td>-0.287094</td>\n",
       "      <td>...</td>\n",
       "      <td>-0.256985</td>\n",
       "      <td>-0.351028</td>\n",
       "      <td>-0.349973</td>\n",
       "      <td>-0.349762</td>\n",
       "      <td>-0.349973</td>\n",
       "      <td>2.857362</td>\n",
       "      <td>-0.381529</td>\n",
       "      <td>0.726802</td>\n",
       "      <td>-0.349551</td>\n",
       "      <td>-0.351028</td>\n",
       "    </tr>\n",
       "    <tr>\n",
       "      <th>1</th>\n",
       "      <td>-1.497482</td>\n",
       "      <td>0.978092</td>\n",
       "      <td>-0.908111</td>\n",
       "      <td>-1.489023</td>\n",
       "      <td>1.334103</td>\n",
       "      <td>1.091569</td>\n",
       "      <td>-0.286855</td>\n",
       "      <td>-0.174193</td>\n",
       "      <td>-0.114346</td>\n",
       "      <td>-0.287094</td>\n",
       "      <td>...</td>\n",
       "      <td>-0.256985</td>\n",
       "      <td>-0.351028</td>\n",
       "      <td>-0.349973</td>\n",
       "      <td>-0.349762</td>\n",
       "      <td>-0.349973</td>\n",
       "      <td>-0.349973</td>\n",
       "      <td>-0.381529</td>\n",
       "      <td>-1.375891</td>\n",
       "      <td>2.860816</td>\n",
       "      <td>-0.351028</td>\n",
       "    </tr>\n",
       "    <tr>\n",
       "      <th>2</th>\n",
       "      <td>0.995659</td>\n",
       "      <td>-0.572844</td>\n",
       "      <td>-0.956917</td>\n",
       "      <td>0.010040</td>\n",
       "      <td>0.139541</td>\n",
       "      <td>-1.369334</td>\n",
       "      <td>-0.286855</td>\n",
       "      <td>-0.174193</td>\n",
       "      <td>-0.114346</td>\n",
       "      <td>-0.287094</td>\n",
       "      <td>...</td>\n",
       "      <td>-0.256985</td>\n",
       "      <td>-0.351028</td>\n",
       "      <td>-0.349973</td>\n",
       "      <td>-0.349762</td>\n",
       "      <td>-0.349973</td>\n",
       "      <td>2.857362</td>\n",
       "      <td>-0.381529</td>\n",
       "      <td>0.726802</td>\n",
       "      <td>-0.349551</td>\n",
       "      <td>-0.351028</td>\n",
       "    </tr>\n",
       "    <tr>\n",
       "      <th>3</th>\n",
       "      <td>1.361665</td>\n",
       "      <td>0.978092</td>\n",
       "      <td>-1.281758</td>\n",
       "      <td>0.660050</td>\n",
       "      <td>0.020085</td>\n",
       "      <td>1.091569</td>\n",
       "      <td>-0.286855</td>\n",
       "      <td>-0.174193</td>\n",
       "      <td>-0.114346</td>\n",
       "      <td>-0.287094</td>\n",
       "      <td>...</td>\n",
       "      <td>-0.256985</td>\n",
       "      <td>-0.351028</td>\n",
       "      <td>-0.349973</td>\n",
       "      <td>-0.349762</td>\n",
       "      <td>-0.349973</td>\n",
       "      <td>-0.349973</td>\n",
       "      <td>2.621031</td>\n",
       "      <td>-1.375891</td>\n",
       "      <td>-0.349551</td>\n",
       "      <td>-0.351028</td>\n",
       "    </tr>\n",
       "    <tr>\n",
       "      <th>4</th>\n",
       "      <td>-0.849437</td>\n",
       "      <td>-0.572844</td>\n",
       "      <td>-1.281758</td>\n",
       "      <td>-1.399220</td>\n",
       "      <td>-1.293934</td>\n",
       "      <td>1.091569</td>\n",
       "      <td>-0.286855</td>\n",
       "      <td>-0.174193</td>\n",
       "      <td>-0.114346</td>\n",
       "      <td>-0.287094</td>\n",
       "      <td>...</td>\n",
       "      <td>-0.256985</td>\n",
       "      <td>-0.351028</td>\n",
       "      <td>-0.349973</td>\n",
       "      <td>-0.349762</td>\n",
       "      <td>-0.349973</td>\n",
       "      <td>-0.349973</td>\n",
       "      <td>-0.381529</td>\n",
       "      <td>0.726802</td>\n",
       "      <td>-0.349551</td>\n",
       "      <td>-0.351028</td>\n",
       "    </tr>\n",
       "    <tr>\n",
       "      <th>...</th>\n",
       "      <td>...</td>\n",
       "      <td>...</td>\n",
       "      <td>...</td>\n",
       "      <td>...</td>\n",
       "      <td>...</td>\n",
       "      <td>...</td>\n",
       "      <td>...</td>\n",
       "      <td>...</td>\n",
       "      <td>...</td>\n",
       "      <td>...</td>\n",
       "      <td>...</td>\n",
       "      <td>...</td>\n",
       "      <td>...</td>\n",
       "      <td>...</td>\n",
       "      <td>...</td>\n",
       "      <td>...</td>\n",
       "      <td>...</td>\n",
       "      <td>...</td>\n",
       "      <td>...</td>\n",
       "      <td>...</td>\n",
       "      <td>...</td>\n",
       "    </tr>\n",
       "    <tr>\n",
       "      <th>8518</th>\n",
       "      <td>-1.294026</td>\n",
       "      <td>-0.572844</td>\n",
       "      <td>-0.181193</td>\n",
       "      <td>1.180783</td>\n",
       "      <td>-1.293934</td>\n",
       "      <td>1.091569</td>\n",
       "      <td>-0.286855</td>\n",
       "      <td>-0.174193</td>\n",
       "      <td>-0.114346</td>\n",
       "      <td>-0.287094</td>\n",
       "      <td>...</td>\n",
       "      <td>-0.256985</td>\n",
       "      <td>-0.351028</td>\n",
       "      <td>-0.349973</td>\n",
       "      <td>-0.349762</td>\n",
       "      <td>-0.349973</td>\n",
       "      <td>-0.349973</td>\n",
       "      <td>-0.381529</td>\n",
       "      <td>0.726802</td>\n",
       "      <td>-0.349551</td>\n",
       "      <td>-0.351028</td>\n",
       "    </tr>\n",
       "    <tr>\n",
       "      <th>8519</th>\n",
       "      <td>-0.967851</td>\n",
       "      <td>0.978092</td>\n",
       "      <td>-0.371154</td>\n",
       "      <td>-0.527301</td>\n",
       "      <td>0.497909</td>\n",
       "      <td>-0.138882</td>\n",
       "      <td>3.486083</td>\n",
       "      <td>-0.174193</td>\n",
       "      <td>-0.114346</td>\n",
       "      <td>-0.287094</td>\n",
       "      <td>...</td>\n",
       "      <td>-0.256985</td>\n",
       "      <td>-0.351028</td>\n",
       "      <td>-0.349973</td>\n",
       "      <td>2.859087</td>\n",
       "      <td>-0.349973</td>\n",
       "      <td>-0.349973</td>\n",
       "      <td>-0.381529</td>\n",
       "      <td>0.726802</td>\n",
       "      <td>-0.349551</td>\n",
       "      <td>-0.351028</td>\n",
       "    </tr>\n",
       "    <tr>\n",
       "      <th>8520</th>\n",
       "      <td>-0.489891</td>\n",
       "      <td>-0.572844</td>\n",
       "      <td>-0.599784</td>\n",
       "      <td>-0.897208</td>\n",
       "      <td>0.736822</td>\n",
       "      <td>-0.138882</td>\n",
       "      <td>-0.286855</td>\n",
       "      <td>-0.174193</td>\n",
       "      <td>-0.114346</td>\n",
       "      <td>-0.287094</td>\n",
       "      <td>...</td>\n",
       "      <td>-0.256985</td>\n",
       "      <td>-0.351028</td>\n",
       "      <td>2.857362</td>\n",
       "      <td>-0.349762</td>\n",
       "      <td>-0.349973</td>\n",
       "      <td>-0.349973</td>\n",
       "      <td>-0.381529</td>\n",
       "      <td>0.726802</td>\n",
       "      <td>-0.349551</td>\n",
       "      <td>-0.351028</td>\n",
       "    </tr>\n",
       "    <tr>\n",
       "      <th>8521</th>\n",
       "      <td>-1.219748</td>\n",
       "      <td>0.978092</td>\n",
       "      <td>1.532880</td>\n",
       "      <td>-0.607977</td>\n",
       "      <td>1.334103</td>\n",
       "      <td>1.091569</td>\n",
       "      <td>-0.286855</td>\n",
       "      <td>-0.174193</td>\n",
       "      <td>-0.114346</td>\n",
       "      <td>-0.287094</td>\n",
       "      <td>...</td>\n",
       "      <td>-0.256985</td>\n",
       "      <td>-0.351028</td>\n",
       "      <td>-0.349973</td>\n",
       "      <td>-0.349762</td>\n",
       "      <td>-0.349973</td>\n",
       "      <td>-0.349973</td>\n",
       "      <td>-0.381529</td>\n",
       "      <td>-1.375891</td>\n",
       "      <td>2.860816</td>\n",
       "      <td>-0.351028</td>\n",
       "    </tr>\n",
       "    <tr>\n",
       "      <th>8522</th>\n",
       "      <td>0.414357</td>\n",
       "      <td>-0.572844</td>\n",
       "      <td>-0.411936</td>\n",
       "      <td>-1.052261</td>\n",
       "      <td>-0.099372</td>\n",
       "      <td>-1.369334</td>\n",
       "      <td>-0.286855</td>\n",
       "      <td>-0.174193</td>\n",
       "      <td>-0.114346</td>\n",
       "      <td>-0.287094</td>\n",
       "      <td>...</td>\n",
       "      <td>-0.256985</td>\n",
       "      <td>-0.351028</td>\n",
       "      <td>-0.349973</td>\n",
       "      <td>-0.349762</td>\n",
       "      <td>2.857362</td>\n",
       "      <td>-0.349973</td>\n",
       "      <td>-0.381529</td>\n",
       "      <td>0.726802</td>\n",
       "      <td>-0.349551</td>\n",
       "      <td>-0.351028</td>\n",
       "    </tr>\n",
       "  </tbody>\n",
       "</table>\n",
       "<p>8523 rows × 36 columns</p>\n",
       "</div>"
      ],
      "text/plain": [
       "            0         1         2         3         4         5         6   \\\n",
       "0    -0.769777 -0.572844 -0.970732  1.747454  0.139541 -1.369334 -0.286855   \n",
       "1    -1.497482  0.978092 -0.908111 -1.489023  1.334103  1.091569 -0.286855   \n",
       "2     0.995659 -0.572844 -0.956917  0.010040  0.139541 -1.369334 -0.286855   \n",
       "3     1.361665  0.978092 -1.281758  0.660050  0.020085  1.091569 -0.286855   \n",
       "4    -0.849437 -0.572844 -1.281758 -1.399220 -1.293934  1.091569 -0.286855   \n",
       "...        ...       ...       ...       ...       ...       ...       ...   \n",
       "8518 -1.294026 -0.572844 -0.181193  1.180783 -1.293934  1.091569 -0.286855   \n",
       "8519 -0.967851  0.978092 -0.371154 -0.527301  0.497909 -0.138882  3.486083   \n",
       "8520 -0.489891 -0.572844 -0.599784 -0.897208  0.736822 -0.138882 -0.286855   \n",
       "8521 -1.219748  0.978092  1.532880 -0.607977  1.334103  1.091569 -0.286855   \n",
       "8522  0.414357 -0.572844 -0.411936 -1.052261 -0.099372 -1.369334 -0.286855   \n",
       "\n",
       "            7         8         9   ...        26        27        28  \\\n",
       "0    -0.174193 -0.114346 -0.287094  ... -0.256985 -0.351028 -0.349973   \n",
       "1    -0.174193 -0.114346 -0.287094  ... -0.256985 -0.351028 -0.349973   \n",
       "2    -0.174193 -0.114346 -0.287094  ... -0.256985 -0.351028 -0.349973   \n",
       "3    -0.174193 -0.114346 -0.287094  ... -0.256985 -0.351028 -0.349973   \n",
       "4    -0.174193 -0.114346 -0.287094  ... -0.256985 -0.351028 -0.349973   \n",
       "...        ...       ...       ...  ...       ...       ...       ...   \n",
       "8518 -0.174193 -0.114346 -0.287094  ... -0.256985 -0.351028 -0.349973   \n",
       "8519 -0.174193 -0.114346 -0.287094  ... -0.256985 -0.351028 -0.349973   \n",
       "8520 -0.174193 -0.114346 -0.287094  ... -0.256985 -0.351028  2.857362   \n",
       "8521 -0.174193 -0.114346 -0.287094  ... -0.256985 -0.351028 -0.349973   \n",
       "8522 -0.174193 -0.114346 -0.287094  ... -0.256985 -0.351028 -0.349973   \n",
       "\n",
       "            29        30        31        32        33        34        35  \n",
       "0    -0.349762 -0.349973  2.857362 -0.381529  0.726802 -0.349551 -0.351028  \n",
       "1    -0.349762 -0.349973 -0.349973 -0.381529 -1.375891  2.860816 -0.351028  \n",
       "2    -0.349762 -0.349973  2.857362 -0.381529  0.726802 -0.349551 -0.351028  \n",
       "3    -0.349762 -0.349973 -0.349973  2.621031 -1.375891 -0.349551 -0.351028  \n",
       "4    -0.349762 -0.349973 -0.349973 -0.381529  0.726802 -0.349551 -0.351028  \n",
       "...        ...       ...       ...       ...       ...       ...       ...  \n",
       "8518 -0.349762 -0.349973 -0.349973 -0.381529  0.726802 -0.349551 -0.351028  \n",
       "8519  2.859087 -0.349973 -0.349973 -0.381529  0.726802 -0.349551 -0.351028  \n",
       "8520 -0.349762 -0.349973 -0.349973 -0.381529  0.726802 -0.349551 -0.351028  \n",
       "8521 -0.349762 -0.349973 -0.349973 -0.381529 -1.375891  2.860816 -0.351028  \n",
       "8522 -0.349762  2.857362 -0.349973 -0.381529  0.726802 -0.349551 -0.351028  \n",
       "\n",
       "[8523 rows x 36 columns]"
      ]
     },
     "execution_count": 30,
     "metadata": {},
     "output_type": "execute_result"
    }
   ],
   "source": [
    "X_train_std"
   ]
  },
  {
   "cell_type": "code",
   "execution_count": 31,
   "id": "bfebf9fa",
   "metadata": {},
   "outputs": [
    {
     "data": {
      "text/plain": [
       "0       3735.1380\n",
       "1        443.4228\n",
       "2       2097.2700\n",
       "3        732.3800\n",
       "4        994.7052\n",
       "          ...    \n",
       "8518    2778.3834\n",
       "8519     549.2850\n",
       "8520    1193.1136\n",
       "8521    1845.5976\n",
       "8522     765.6700\n",
       "Name: Item_Outlet_Sales, Length: 8523, dtype: float64"
      ]
     },
     "execution_count": 31,
     "metadata": {},
     "output_type": "execute_result"
    }
   ],
   "source": [
    "y_train"
   ]
  },
  {
   "cell_type": "code",
   "execution_count": 32,
   "id": "eda4ed64",
   "metadata": {},
   "outputs": [],
   "source": [
    "### SVM\n",
    "kf=KFold(n_splits=5)  # cross validation with Kfold\n",
    "model= SVR()\n",
    "model.fit(X_train_std, y_train)\n",
    "ypred=model.predict(X_train_std)"
   ]
  },
  {
   "cell_type": "code",
   "execution_count": 33,
   "id": "4687ea73",
   "metadata": {},
   "outputs": [
    {
     "name": "stdout",
     "output_type": "stream",
     "text": [
      "RMSE: 2856858.3468429856\n"
     ]
    }
   ],
   "source": [
    "rmse=mean_squared_error(ypred,y_train)\n",
    "print('RMSE:',rmse)"
   ]
  },
  {
   "cell_type": "markdown",
   "id": "fc74d599",
   "metadata": {},
   "source": [
    "### Hyperparameter tuning "
   ]
  },
  {
   "cell_type": "code",
   "execution_count": 34,
   "id": "cbba41ce",
   "metadata": {},
   "outputs": [],
   "source": [
    "parameters ={'C': [0.1, 1, 10, 100, 1000],\n",
    "             'gamma': [1, 0.1, 0.01, 0.001, 0.0001],\n",
    "             'kernel': ['rbf']}\n",
    "\n",
    "grid_search = GridSearchCV( SVR(), \n",
    "                            parameters, \n",
    "                            cv=5,\n",
    "                            scoring='accuracy',n_jobs=-1)"
   ]
  },
  {
   "cell_type": "code",
   "execution_count": 35,
   "id": "e0a5ce04",
   "metadata": {},
   "outputs": [
    {
     "ename": "KeyboardInterrupt",
     "evalue": "",
     "output_type": "error",
     "traceback": [
      "\u001b[1;31m---------------------------------------------------------------------------\u001b[0m",
      "\u001b[1;31mKeyboardInterrupt\u001b[0m                         Traceback (most recent call last)",
      "\u001b[1;32m<ipython-input-35-aadd295d2048>\u001b[0m in \u001b[0;36m<module>\u001b[1;34m\u001b[0m\n\u001b[1;32m----> 1\u001b[1;33m \u001b[0mgrid_result\u001b[0m\u001b[1;33m=\u001b[0m \u001b[0mgrid_search\u001b[0m\u001b[1;33m.\u001b[0m\u001b[0mfit\u001b[0m\u001b[1;33m(\u001b[0m\u001b[0mX_train_std\u001b[0m\u001b[1;33m,\u001b[0m\u001b[0my_train\u001b[0m\u001b[1;33m)\u001b[0m\u001b[1;33m\u001b[0m\u001b[1;33m\u001b[0m\u001b[0m\n\u001b[0m\u001b[0;32m      2\u001b[0m \u001b[0mprint\u001b[0m\u001b[1;33m(\u001b[0m\u001b[1;34m'Best Params: '\u001b[0m\u001b[1;33m,\u001b[0m \u001b[0mgrid_result\u001b[0m\u001b[1;33m.\u001b[0m\u001b[0mbest_params_\u001b[0m\u001b[1;33m)\u001b[0m\u001b[1;33m\u001b[0m\u001b[1;33m\u001b[0m\u001b[0m\n\u001b[0;32m      3\u001b[0m \u001b[0mprint\u001b[0m\u001b[1;33m(\u001b[0m\u001b[1;34m'Best Score: '\u001b[0m\u001b[1;33m,\u001b[0m \u001b[0mgrid_result\u001b[0m\u001b[1;33m.\u001b[0m\u001b[0mbest_score_\u001b[0m\u001b[1;33m)\u001b[0m\u001b[1;33m\u001b[0m\u001b[1;33m\u001b[0m\u001b[0m\n",
      "\u001b[1;32m~\\anaconda3\\lib\\site-packages\\sklearn\\model_selection\\_search.py\u001b[0m in \u001b[0;36mfit\u001b[1;34m(self, X, y, groups, **fit_params)\u001b[0m\n\u001b[0;32m    873\u001b[0m                 \u001b[1;32mreturn\u001b[0m \u001b[0mresults\u001b[0m\u001b[1;33m\u001b[0m\u001b[1;33m\u001b[0m\u001b[0m\n\u001b[0;32m    874\u001b[0m \u001b[1;33m\u001b[0m\u001b[0m\n\u001b[1;32m--> 875\u001b[1;33m             \u001b[0mself\u001b[0m\u001b[1;33m.\u001b[0m\u001b[0m_run_search\u001b[0m\u001b[1;33m(\u001b[0m\u001b[0mevaluate_candidates\u001b[0m\u001b[1;33m)\u001b[0m\u001b[1;33m\u001b[0m\u001b[1;33m\u001b[0m\u001b[0m\n\u001b[0m\u001b[0;32m    876\u001b[0m \u001b[1;33m\u001b[0m\u001b[0m\n\u001b[0;32m    877\u001b[0m             \u001b[1;31m# multimetric is determined here because in the case of a callable\u001b[0m\u001b[1;33m\u001b[0m\u001b[1;33m\u001b[0m\u001b[1;33m\u001b[0m\u001b[0m\n",
      "\u001b[1;32m~\\anaconda3\\lib\\site-packages\\sklearn\\model_selection\\_search.py\u001b[0m in \u001b[0;36m_run_search\u001b[1;34m(self, evaluate_candidates)\u001b[0m\n\u001b[0;32m   1377\u001b[0m     \u001b[1;32mdef\u001b[0m \u001b[0m_run_search\u001b[0m\u001b[1;33m(\u001b[0m\u001b[0mself\u001b[0m\u001b[1;33m,\u001b[0m \u001b[0mevaluate_candidates\u001b[0m\u001b[1;33m)\u001b[0m\u001b[1;33m:\u001b[0m\u001b[1;33m\u001b[0m\u001b[1;33m\u001b[0m\u001b[0m\n\u001b[0;32m   1378\u001b[0m         \u001b[1;34m\"\"\"Search all candidates in param_grid\"\"\"\u001b[0m\u001b[1;33m\u001b[0m\u001b[1;33m\u001b[0m\u001b[0m\n\u001b[1;32m-> 1379\u001b[1;33m         \u001b[0mevaluate_candidates\u001b[0m\u001b[1;33m(\u001b[0m\u001b[0mParameterGrid\u001b[0m\u001b[1;33m(\u001b[0m\u001b[0mself\u001b[0m\u001b[1;33m.\u001b[0m\u001b[0mparam_grid\u001b[0m\u001b[1;33m)\u001b[0m\u001b[1;33m)\u001b[0m\u001b[1;33m\u001b[0m\u001b[1;33m\u001b[0m\u001b[0m\n\u001b[0m\u001b[0;32m   1380\u001b[0m \u001b[1;33m\u001b[0m\u001b[0m\n\u001b[0;32m   1381\u001b[0m \u001b[1;33m\u001b[0m\u001b[0m\n",
      "\u001b[1;32m~\\anaconda3\\lib\\site-packages\\sklearn\\model_selection\\_search.py\u001b[0m in \u001b[0;36mevaluate_candidates\u001b[1;34m(candidate_params, cv, more_results)\u001b[0m\n\u001b[0;32m    820\u001b[0m                     )\n\u001b[0;32m    821\u001b[0m \u001b[1;33m\u001b[0m\u001b[0m\n\u001b[1;32m--> 822\u001b[1;33m                 out = parallel(\n\u001b[0m\u001b[0;32m    823\u001b[0m                     delayed(_fit_and_score)(\n\u001b[0;32m    824\u001b[0m                         \u001b[0mclone\u001b[0m\u001b[1;33m(\u001b[0m\u001b[0mbase_estimator\u001b[0m\u001b[1;33m)\u001b[0m\u001b[1;33m,\u001b[0m\u001b[1;33m\u001b[0m\u001b[1;33m\u001b[0m\u001b[0m\n",
      "\u001b[1;32m~\\anaconda3\\lib\\site-packages\\joblib\\parallel.py\u001b[0m in \u001b[0;36m__call__\u001b[1;34m(self, iterable)\u001b[0m\n\u001b[0;32m   1052\u001b[0m \u001b[1;33m\u001b[0m\u001b[0m\n\u001b[0;32m   1053\u001b[0m             \u001b[1;32mwith\u001b[0m \u001b[0mself\u001b[0m\u001b[1;33m.\u001b[0m\u001b[0m_backend\u001b[0m\u001b[1;33m.\u001b[0m\u001b[0mretrieval_context\u001b[0m\u001b[1;33m(\u001b[0m\u001b[1;33m)\u001b[0m\u001b[1;33m:\u001b[0m\u001b[1;33m\u001b[0m\u001b[1;33m\u001b[0m\u001b[0m\n\u001b[1;32m-> 1054\u001b[1;33m                 \u001b[0mself\u001b[0m\u001b[1;33m.\u001b[0m\u001b[0mretrieve\u001b[0m\u001b[1;33m(\u001b[0m\u001b[1;33m)\u001b[0m\u001b[1;33m\u001b[0m\u001b[1;33m\u001b[0m\u001b[0m\n\u001b[0m\u001b[0;32m   1055\u001b[0m             \u001b[1;31m# Make sure that we get a last message telling us we are done\u001b[0m\u001b[1;33m\u001b[0m\u001b[1;33m\u001b[0m\u001b[1;33m\u001b[0m\u001b[0m\n\u001b[0;32m   1056\u001b[0m             \u001b[0melapsed_time\u001b[0m \u001b[1;33m=\u001b[0m \u001b[0mtime\u001b[0m\u001b[1;33m.\u001b[0m\u001b[0mtime\u001b[0m\u001b[1;33m(\u001b[0m\u001b[1;33m)\u001b[0m \u001b[1;33m-\u001b[0m \u001b[0mself\u001b[0m\u001b[1;33m.\u001b[0m\u001b[0m_start_time\u001b[0m\u001b[1;33m\u001b[0m\u001b[1;33m\u001b[0m\u001b[0m\n",
      "\u001b[1;32m~\\anaconda3\\lib\\site-packages\\joblib\\parallel.py\u001b[0m in \u001b[0;36mretrieve\u001b[1;34m(self)\u001b[0m\n\u001b[0;32m    931\u001b[0m             \u001b[1;32mtry\u001b[0m\u001b[1;33m:\u001b[0m\u001b[1;33m\u001b[0m\u001b[1;33m\u001b[0m\u001b[0m\n\u001b[0;32m    932\u001b[0m                 \u001b[1;32mif\u001b[0m \u001b[0mgetattr\u001b[0m\u001b[1;33m(\u001b[0m\u001b[0mself\u001b[0m\u001b[1;33m.\u001b[0m\u001b[0m_backend\u001b[0m\u001b[1;33m,\u001b[0m \u001b[1;34m'supports_timeout'\u001b[0m\u001b[1;33m,\u001b[0m \u001b[1;32mFalse\u001b[0m\u001b[1;33m)\u001b[0m\u001b[1;33m:\u001b[0m\u001b[1;33m\u001b[0m\u001b[1;33m\u001b[0m\u001b[0m\n\u001b[1;32m--> 933\u001b[1;33m                     \u001b[0mself\u001b[0m\u001b[1;33m.\u001b[0m\u001b[0m_output\u001b[0m\u001b[1;33m.\u001b[0m\u001b[0mextend\u001b[0m\u001b[1;33m(\u001b[0m\u001b[0mjob\u001b[0m\u001b[1;33m.\u001b[0m\u001b[0mget\u001b[0m\u001b[1;33m(\u001b[0m\u001b[0mtimeout\u001b[0m\u001b[1;33m=\u001b[0m\u001b[0mself\u001b[0m\u001b[1;33m.\u001b[0m\u001b[0mtimeout\u001b[0m\u001b[1;33m)\u001b[0m\u001b[1;33m)\u001b[0m\u001b[1;33m\u001b[0m\u001b[1;33m\u001b[0m\u001b[0m\n\u001b[0m\u001b[0;32m    934\u001b[0m                 \u001b[1;32melse\u001b[0m\u001b[1;33m:\u001b[0m\u001b[1;33m\u001b[0m\u001b[1;33m\u001b[0m\u001b[0m\n\u001b[0;32m    935\u001b[0m                     \u001b[0mself\u001b[0m\u001b[1;33m.\u001b[0m\u001b[0m_output\u001b[0m\u001b[1;33m.\u001b[0m\u001b[0mextend\u001b[0m\u001b[1;33m(\u001b[0m\u001b[0mjob\u001b[0m\u001b[1;33m.\u001b[0m\u001b[0mget\u001b[0m\u001b[1;33m(\u001b[0m\u001b[1;33m)\u001b[0m\u001b[1;33m)\u001b[0m\u001b[1;33m\u001b[0m\u001b[1;33m\u001b[0m\u001b[0m\n",
      "\u001b[1;32m~\\anaconda3\\lib\\site-packages\\joblib\\_parallel_backends.py\u001b[0m in \u001b[0;36mwrap_future_result\u001b[1;34m(future, timeout)\u001b[0m\n\u001b[0;32m    540\u001b[0m         AsyncResults.get from multiprocessing.\"\"\"\n\u001b[0;32m    541\u001b[0m         \u001b[1;32mtry\u001b[0m\u001b[1;33m:\u001b[0m\u001b[1;33m\u001b[0m\u001b[1;33m\u001b[0m\u001b[0m\n\u001b[1;32m--> 542\u001b[1;33m             \u001b[1;32mreturn\u001b[0m \u001b[0mfuture\u001b[0m\u001b[1;33m.\u001b[0m\u001b[0mresult\u001b[0m\u001b[1;33m(\u001b[0m\u001b[0mtimeout\u001b[0m\u001b[1;33m=\u001b[0m\u001b[0mtimeout\u001b[0m\u001b[1;33m)\u001b[0m\u001b[1;33m\u001b[0m\u001b[1;33m\u001b[0m\u001b[0m\n\u001b[0m\u001b[0;32m    543\u001b[0m         \u001b[1;32mexcept\u001b[0m \u001b[0mCfTimeoutError\u001b[0m \u001b[1;32mas\u001b[0m \u001b[0me\u001b[0m\u001b[1;33m:\u001b[0m\u001b[1;33m\u001b[0m\u001b[1;33m\u001b[0m\u001b[0m\n\u001b[0;32m    544\u001b[0m             \u001b[1;32mraise\u001b[0m \u001b[0mTimeoutError\u001b[0m \u001b[1;32mfrom\u001b[0m \u001b[0me\u001b[0m\u001b[1;33m\u001b[0m\u001b[1;33m\u001b[0m\u001b[0m\n",
      "\u001b[1;32m~\\anaconda3\\lib\\concurrent\\futures\\_base.py\u001b[0m in \u001b[0;36mresult\u001b[1;34m(self, timeout)\u001b[0m\n\u001b[0;32m    432\u001b[0m                 \u001b[1;32mreturn\u001b[0m \u001b[0mself\u001b[0m\u001b[1;33m.\u001b[0m\u001b[0m__get_result\u001b[0m\u001b[1;33m(\u001b[0m\u001b[1;33m)\u001b[0m\u001b[1;33m\u001b[0m\u001b[1;33m\u001b[0m\u001b[0m\n\u001b[0;32m    433\u001b[0m \u001b[1;33m\u001b[0m\u001b[0m\n\u001b[1;32m--> 434\u001b[1;33m             \u001b[0mself\u001b[0m\u001b[1;33m.\u001b[0m\u001b[0m_condition\u001b[0m\u001b[1;33m.\u001b[0m\u001b[0mwait\u001b[0m\u001b[1;33m(\u001b[0m\u001b[0mtimeout\u001b[0m\u001b[1;33m)\u001b[0m\u001b[1;33m\u001b[0m\u001b[1;33m\u001b[0m\u001b[0m\n\u001b[0m\u001b[0;32m    435\u001b[0m \u001b[1;33m\u001b[0m\u001b[0m\n\u001b[0;32m    436\u001b[0m             \u001b[1;32mif\u001b[0m \u001b[0mself\u001b[0m\u001b[1;33m.\u001b[0m\u001b[0m_state\u001b[0m \u001b[1;32min\u001b[0m \u001b[1;33m[\u001b[0m\u001b[0mCANCELLED\u001b[0m\u001b[1;33m,\u001b[0m \u001b[0mCANCELLED_AND_NOTIFIED\u001b[0m\u001b[1;33m]\u001b[0m\u001b[1;33m:\u001b[0m\u001b[1;33m\u001b[0m\u001b[1;33m\u001b[0m\u001b[0m\n",
      "\u001b[1;32m~\\anaconda3\\lib\\threading.py\u001b[0m in \u001b[0;36mwait\u001b[1;34m(self, timeout)\u001b[0m\n\u001b[0;32m    300\u001b[0m         \u001b[1;32mtry\u001b[0m\u001b[1;33m:\u001b[0m    \u001b[1;31m# restore state no matter what (e.g., KeyboardInterrupt)\u001b[0m\u001b[1;33m\u001b[0m\u001b[1;33m\u001b[0m\u001b[0m\n\u001b[0;32m    301\u001b[0m             \u001b[1;32mif\u001b[0m \u001b[0mtimeout\u001b[0m \u001b[1;32mis\u001b[0m \u001b[1;32mNone\u001b[0m\u001b[1;33m:\u001b[0m\u001b[1;33m\u001b[0m\u001b[1;33m\u001b[0m\u001b[0m\n\u001b[1;32m--> 302\u001b[1;33m                 \u001b[0mwaiter\u001b[0m\u001b[1;33m.\u001b[0m\u001b[0macquire\u001b[0m\u001b[1;33m(\u001b[0m\u001b[1;33m)\u001b[0m\u001b[1;33m\u001b[0m\u001b[1;33m\u001b[0m\u001b[0m\n\u001b[0m\u001b[0;32m    303\u001b[0m                 \u001b[0mgotit\u001b[0m \u001b[1;33m=\u001b[0m \u001b[1;32mTrue\u001b[0m\u001b[1;33m\u001b[0m\u001b[1;33m\u001b[0m\u001b[0m\n\u001b[0;32m    304\u001b[0m             \u001b[1;32melse\u001b[0m\u001b[1;33m:\u001b[0m\u001b[1;33m\u001b[0m\u001b[1;33m\u001b[0m\u001b[0m\n",
      "\u001b[1;31mKeyboardInterrupt\u001b[0m: "
     ]
    }
   ],
   "source": [
    "grid_result= grid_search.fit(X_train_std,y_train)\n",
    "print('Best Params: ', grid_result.best_params_)\n",
    "print('Best Score: ', grid_result.best_score_)"
   ]
  },
  {
   "cell_type": "code",
   "execution_count": null,
   "id": "9984b163",
   "metadata": {},
   "outputs": [],
   "source": [
    "### SVM with parameter optimization\n",
    "model=SVR(C=100, gamma= 0.1,kernel='rbf')\n",
    "model.fit(X_train_std, y_train)\n",
    "ypred=model.predict(X_train_std)\n",
    "err=accuracy_score(y_train, ypred)\n",
    "score=cross_val_score(model,X_train,y_train,cv=kf).mean()\n",
    "print(\".......................................................................\")\n",
    "print(model)\n",
    "print(\".......................................................................\")\n",
    "print('{}% of the test samples are corrrectly classified'.format(err*100))\n",
    "print('{}% of the test samples are corrrectly classified using K-Fold validation\\n'.format(score*100))"
   ]
  },
  {
   "cell_type": "code",
   "execution_count": 36,
   "id": "bae0e726",
   "metadata": {},
   "outputs": [],
   "source": [
    "ypred=model.predict(X_test_std)"
   ]
  },
  {
   "cell_type": "code",
   "execution_count": 39,
   "id": "66aead5f",
   "metadata": {},
   "outputs": [],
   "source": [
    "test1 = pd.read_csv(r\"F:\\Tutorials\\Certified program in MACHINE LEARNING and ARTIFICIAL INTELLIGENCE\\Intermediate assessment\\test_AbJTz2l.csv\")\n",
    "outputDataFrame=pd.DataFrame({'Item_Identifier':test1['Item_Identifier'],'Outlet_Identifier':test1['Outlet_Identifier'],'Item_Outlet_Sales':ypred})\n",
    "\n",
    "outputDataFrame.to_csv(\"output_predicted.csv\", index=False)"
   ]
  },
  {
   "cell_type": "code",
   "execution_count": null,
   "id": "926f2b10",
   "metadata": {},
   "outputs": [],
   "source": []
  }
 ],
 "metadata": {
  "kernelspec": {
   "display_name": "Python 3",
   "language": "python",
   "name": "python3"
  },
  "language_info": {
   "codemirror_mode": {
    "name": "ipython",
    "version": 3
   },
   "file_extension": ".py",
   "mimetype": "text/x-python",
   "name": "python",
   "nbconvert_exporter": "python",
   "pygments_lexer": "ipython3",
   "version": "3.8.8"
  }
 },
 "nbformat": 4,
 "nbformat_minor": 5
}
